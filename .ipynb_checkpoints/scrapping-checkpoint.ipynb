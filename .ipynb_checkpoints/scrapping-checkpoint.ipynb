{
 "cells": [
  {
   "cell_type": "code",
   "execution_count": 1,
   "metadata": {},
   "outputs": [],
   "source": [
    "import scrapy\n",
    "import pandas as pd\n",
    "import os"
   ]
  },
  {
   "cell_type": "code",
   "execution_count": 2,
   "metadata": {},
   "outputs": [],
   "source": [
    "class MonSpider(scrapy.Spider):\n",
    "    name = 'mon_spider'\n",
    "    start_urls = ['https://almofiid.com/%D8%A7%D8%B3%D8%A6%D9%84%D8%A9-%D8%AF%D9%8A%D9%86%D9%8A%D8%A9-%D8%A7%D8%B3%D9%84%D8%A7%D9%85%D9%8A%D8%A9-%D9%84%D9%84%D9%85%D8%B3%D8%A7%D8%A8%D9%82%D8%A7%D8%AA-%D9%88%D8%A7%D8%AC%D8%A7%D8%A8%D8%AA/#google_vignette']\n",
    "\n",
    "    def parse(self, response):\n",
    "        data = []\n",
    "\n",
    "        # Use the provided XPath for selecting the list containing questions and answers\n",
    "        question_list = response.xpath('/html/body/div[1]/div/div/div[2]/div/div/article/div[1]/div[1]/ul[3]')\n",
    "\n",
    "        for question_li in question_list.xpath('li'):\n",
    "            # Extract the question text\n",
    "            question_text = question_li.xpath('strong[contains(text(), \"السؤال\")]/following-sibling::text()').get()\n",
    "\n",
    "            # Extract the options and answer\n",
    "            options_and_answer = question_li.xpath('strong[contains(text(), \"الإجابة\")]/following-sibling::text()').getall()\n",
    "        \n",
    "            answer = options_and_answer[-1].strip() if options_and_answer else None\n",
    "\n",
    "            data.append({\n",
    "                'question': question_text.strip() if question_text else None,\n",
    "                'answer': answer,\n",
    "            })\n",
    "\n",
    "            # Add print statements for debugging\n",
    "            print(f'Question: {question_text}, Answer: {answer}')\n",
    "\n",
    "        # Check if any data is extracted\n",
    "        if data:\n",
    "            # Convert the data to a pandas DataFrame\n",
    "            df = pd.DataFrame(data)\n",
    "\n",
    "            # Specify the directory where you want to save the CSV file\n",
    "            output_directory = 'C:\\\\Users\\\\DELL\\\\Documents\\\\MBD\\\\S3\\\\Deep Learning MBD 2023\\\\Project\\\\Angular app'\n",
    "\n",
    "            # Ensure the directory exists; create it if necessary\n",
    "            if not os.path.exists(output_directory):\n",
    "                os.makedirs(output_directory)\n",
    "\n",
    "            # Save the DataFrame to a CSV file in the specified directory\n",
    "            csv_file_path = os.path.join(output_directory, 'out_data.csv')\n",
    "            df.to_csv(csv_file_path, encoding='utf-8-sig', index=False)\n",
    "\n",
    "            print(f'Data saved to {csv_file_path} file.')\n",
    "        else:\n",
    "            print('No data extracted.')\n"
   ]
  },
  {
   "cell_type": "code",
   "execution_count": null,
   "metadata": {},
   "outputs": [],
   "source": []
  }
 ],
 "metadata": {
  "kernelspec": {
   "display_name": "Python 3 (ipykernel)",
   "language": "python",
   "name": "python3"
  },
  "language_info": {
   "codemirror_mode": {
    "name": "ipython",
    "version": 3
   },
   "file_extension": ".py",
   "mimetype": "text/x-python",
   "name": "python",
   "nbconvert_exporter": "python",
   "pygments_lexer": "ipython3",
   "version": "3.11.5"
  }
 },
 "nbformat": 4,
 "nbformat_minor": 2
}
